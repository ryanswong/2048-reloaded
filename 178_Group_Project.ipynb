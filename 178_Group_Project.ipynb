{
  "nbformat": 4,
  "nbformat_minor": 0,
  "metadata": {
    "colab": {
      "name": "178 Group Project ",
      "provenance": [],
      "collapsed_sections": [],
      "include_colab_link": true
    },
    "kernelspec": {
      "name": "python3",
      "display_name": "Python 3"
    }
  },
  "cells": [
    {
      "cell_type": "markdown",
      "metadata": {
        "id": "view-in-github",
        "colab_type": "text"
      },
      "source": [
        "<a href=\"https://colab.research.google.com/github/suzuryu9000/2048-reloaded/blob/master/178_Group_Project.ipynb\" target=\"_parent\"><img src=\"https://colab.research.google.com/assets/colab-badge.svg\" alt=\"Open In Colab\"/></a>"
      ]
    },
    {
      "cell_type": "markdown",
      "metadata": {
        "id": "wTs3bWobzPqY"
      },
      "source": [
        "## CS178 Group Project\n",
        "\n",
        "Joshua Hsin, 13651420\n",
        "\n",
        "Ryan Wong, 56903918\n",
        "\n",
        "Marissa Lafreniere, 57812456\n",
        "\n"
      ]
    },
    {
      "cell_type": "markdown",
      "metadata": {
        "id": "7rQ4a1Dz0LuG"
      },
      "source": [
        "## Learners:"
      ]
    },
    {
      "cell_type": "code",
      "metadata": {
        "colab": {
          "base_uri": "https://localhost:8080/",
          "height": 363
        },
        "id": "2no7Gkkv0kp6",
        "outputId": "51c4ec96-7391-4c96-b5c9-afc7e39913e6"
      },
      "source": [
        "# Setup\n",
        "import math\n",
        "import numpy as np\n",
        "import mltools as ml\n",
        "import matplotlib.pyplot as plt\n",
        "plt.set_cmap('jet')\n",
        "%matplotlib inline\n",
        "import warnings\n",
        "warnings.filterwarnings('ignore')"
      ],
      "execution_count": null,
      "outputs": [
        {
          "output_type": "error",
          "ename": "ModuleNotFoundError",
          "evalue": "ignored",
          "traceback": [
            "\u001b[0;31m---------------------------------------------------------------------------\u001b[0m",
            "\u001b[0;31mModuleNotFoundError\u001b[0m                       Traceback (most recent call last)",
            "\u001b[0;32m<ipython-input-1-80127576f951>\u001b[0m in \u001b[0;36m<module>\u001b[0;34m()\u001b[0m\n\u001b[1;32m      2\u001b[0m \u001b[0;32mimport\u001b[0m \u001b[0mmath\u001b[0m\u001b[0;34m\u001b[0m\u001b[0;34m\u001b[0m\u001b[0m\n\u001b[1;32m      3\u001b[0m \u001b[0;32mimport\u001b[0m \u001b[0mnumpy\u001b[0m \u001b[0;32mas\u001b[0m \u001b[0mnp\u001b[0m\u001b[0;34m\u001b[0m\u001b[0;34m\u001b[0m\u001b[0m\n\u001b[0;32m----> 4\u001b[0;31m \u001b[0;32mimport\u001b[0m \u001b[0mmltools\u001b[0m \u001b[0;32mas\u001b[0m \u001b[0mml\u001b[0m\u001b[0;34m\u001b[0m\u001b[0;34m\u001b[0m\u001b[0m\n\u001b[0m\u001b[1;32m      5\u001b[0m \u001b[0;32mimport\u001b[0m \u001b[0mmatplotlib\u001b[0m\u001b[0;34m.\u001b[0m\u001b[0mpyplot\u001b[0m \u001b[0;32mas\u001b[0m \u001b[0mplt\u001b[0m\u001b[0;34m\u001b[0m\u001b[0;34m\u001b[0m\u001b[0m\n\u001b[1;32m      6\u001b[0m \u001b[0mplt\u001b[0m\u001b[0;34m.\u001b[0m\u001b[0mset_cmap\u001b[0m\u001b[0;34m(\u001b[0m\u001b[0;34m'jet'\u001b[0m\u001b[0;34m)\u001b[0m\u001b[0;34m\u001b[0m\u001b[0;34m\u001b[0m\u001b[0m\n",
            "\u001b[0;31mModuleNotFoundError\u001b[0m: No module named 'mltools'",
            "",
            "\u001b[0;31m---------------------------------------------------------------------------\u001b[0;32m\nNOTE: If your import is failing due to a missing package, you can\nmanually install dependencies using either !pip or !apt.\n\nTo view examples of installing some common dependencies, click the\n\"Open Examples\" button below.\n\u001b[0;31m---------------------------------------------------------------------------\u001b[0m\n"
          ]
        }
      ]
    },
    {
      "cell_type": "markdown",
      "metadata": {
        "id": "WHZqD59az19Q"
      },
      "source": [
        "#### Gradient Boost"
      ]
    },
    {
      "cell_type": "code",
      "metadata": {
        "id": "7sN3sBGjx5au"
      },
      "source": [
        "def Grad_Boost(nBoost, ml_learner, Xtr, Ytr, Xva, Yva, alpha=0.1, \n",
        "               maxDepth=10, minLeaf=4, debug=False) -> np.ndarray:\n",
        "    \n",
        "    # Load data set X, Y …\n",
        "    learner = [None] * nBoost # storage for ensemble of models\n",
        "    alpha = [1.0] * nBoost # and weights of each learner\n",
        "\n",
        "    mu = Ytr.mean() # often start with constant ”mean” predictor\n",
        "    dY = Ytr - mu # subtract this prediction away (assumes MSE)\n",
        "\n",
        "    for k in range(nBoost):\n",
        "        # regress to predict gradient direction dJ using X\n",
        "        learner[k] = ml_learner( Xtr, dY, maxDepth=10, minLeaf=4) \n",
        "        alpha[k] = alpha # alpha: ”learning rate” or ”step size”\n",
        "\n",
        "        # smaller alphas need to use more classifiers, but may predict better given enough of them\n",
        "        # compute the residual given our new prediction:\n",
        "        dY -= alpha[k] * learner[k].predict(Xtr) # update gradient (assumes MSE loss)\n",
        "\n",
        "    # test on data Xva\n",
        "    predict = np.zeros((Xva.shape[0],)) + mu # Allocate space for predictions & add 1st (mean)\n",
        "    for k in range(nBoost):\n",
        "        # Apply predictor of next residual & accum\n",
        "        predict += alpha[k] * learner[k].predictSoft(Xva)[:,1]\n",
        "\n",
        "    return predict\n",
        "\n",
        "predict = Grad_Boost(3, ml.dtree.treeClassify, Xtr, Ytr, Xva, Yva)\n",
        "\n",
        "print(predict)\n",
        "print('mse:           ', mse(Yva, predict))\n",
        "print('score (1-mse): ', score_mse(Yva, predict))"
      ],
      "execution_count": null,
      "outputs": []
    },
    {
      "cell_type": "markdown",
      "metadata": {
        "id": "zgn-Pvsa2Asv"
      },
      "source": [
        "Random Forest"
      ]
    },
    {
      "cell_type": "code",
      "metadata": {
        "id": "wOpEDo0V2EvO"
      },
      "source": [
        "def random_forest(X, Y, Xte):\n",
        "    nBag = 23\n",
        "    classifiers = [ None ] * nBag\n",
        "\n",
        "    for i in range(nBag):\n",
        "        Xi, Yi = ml.bootstrapData(X, Y, 1500)\n",
        "        classifiers[i] = ml.dtree.treeClassify(Xi, Yi, maxDepth=8, minParent=128)\n",
        "\n",
        "    ## make indv predictions\n",
        "    mTest = Xte.shape[0]\n",
        "    predict = np.zeros( (mTest, nBag) )# Allocatespacefor predictions from each m\n",
        "    \n",
        "    for i in range(nBag):\n",
        "        predict[:,i] = classifiers[i].predict(Xte)# Apply each classifier\n",
        "    \n",
        "    predict= np.mean(predict, axis=1)\n",
        "    #Yte = np.vstack((np.arange(Xte.shape[0]), predict)).T\n",
        "    return predict"
      ],
      "execution_count": null,
      "outputs": []
    },
    {
      "cell_type": "code",
      "metadata": {
        "id": "FTuMkJZB0Rwy"
      },
      "source": [
        "import "
      ],
      "execution_count": null,
      "outputs": []
    },
    {
      "cell_type": "markdown",
      "metadata": {
        "id": "Pt9vAjvU0Q80"
      },
      "source": [
        "## Analysis"
      ]
    }
  ]
}